{
 "cells": [
  {
   "cell_type": "markdown",
   "metadata": {},
   "source": [
    "## Intro\n",
    "\n",
    "This notebook provides a quickstart guide to the lume python library."
   ]
  },
  {
   "cell_type": "code",
   "execution_count": 10,
   "metadata": {},
   "outputs": [],
   "source": [
    "# !pip install pylume"
   ]
  },
  {
   "cell_type": "code",
   "execution_count": null,
   "metadata": {},
   "outputs": [],
   "source": [
    "# If locally installed, use this instead:\n",
    "# !poetry install\n",
    "# !poetry build\n",
    "!pip uninstall pylume -y && pip install ./dist/pylume-0.1.0-py3-none-any.whl --force-reinstall"
   ]
  },
  {
   "cell_type": "code",
   "execution_count": null,
   "metadata": {},
   "outputs": [],
   "source": [
    "from pylume import PyLume\n",
    "\n",
    "# Initialize client\n",
    "pylume = PyLume(debug=True, port=3001)"
   ]
  },
  {
   "cell_type": "markdown",
   "metadata": {},
   "source": [
    "### Get latest IPSW URL from Apple Server\n",
    "\n",
    "This is used to create a new macOS VM by providing the downloaded IPSW file path to the `ipsw` argument in the `create_vm` method."
   ]
  },
  {
   "cell_type": "code",
   "execution_count": null,
   "metadata": {},
   "outputs": [],
   "source": [
    "# Get latest IPSW URL\n",
    "url = pylume.get_latest_ipsw_url()\n",
    "print(f\"Latest IPSW URL: {url}\")"
   ]
  },
  {
   "cell_type": "markdown",
   "metadata": {},
   "source": [
    "### Create a new VM"
   ]
  },
  {
   "cell_type": "markdown",
   "metadata": {},
   "source": [
    "#### macOS\n",
    "\n",
    "An IPSW file path is required to create a new macOS VM. To fetch automatically the latest IPSW during the VM creation, use `ipsw=\"latest\"`."
   ]
  },
  {
   "cell_type": "code",
   "execution_count": null,
   "metadata": {},
   "outputs": [],
   "source": [
    "from pylume import VMConfig\n",
    "\n",
    "config = VMConfig(\n",
    "    name=\"macos1-vm\",\n",
    "    os=\"macOS\",\n",
    "    cpu=2,\n",
    "    memory=\"4GB\",\n",
    "    diskSize=\"64GB\",\n",
    "    display=\"1024x768\",\n",
    "    ipsw=\"latest\"\n",
    ")\n",
    "pylume.create_vm(config)"
   ]
  },
  {
   "cell_type": "markdown",
   "metadata": {},
   "source": [
    "#### Linux\n",
    "\n",
    "To create a new Linux VM, use the `os=\"linux\"` argument in the `VMConfig` class. Note that this doesn't set up any Linux distribution, it just creates a VM with a Linux kernel."
   ]
  },
  {
   "cell_type": "code",
   "execution_count": 36,
   "metadata": {},
   "outputs": [
    {
     "name": "stdout",
     "output_type": "stream",
     "text": [
      "DEBUG: Creating VM\n",
      "{\n",
      "  \"config\": {\n",
      "    \"name\": \"linux-vm\",\n",
      "    \"os\": \"linux\",\n",
      "    \"cpu\": 2,\n",
      "    \"memory\": \"4GB\",\n",
      "    \"diskSize\": \"25GB\",\n",
      "    \"display\": \"1024x768\",\n",
      "    \"ipsw\": null\n",
      "  }\n",
      "}\n",
      "DEBUG: VM created successfully\n"
     ]
    }
   ],
   "source": [
    "from pylume import VMConfig\n",
    "\n",
    "config = VMConfig(\n",
    "    name=\"linux-vm\",\n",
    "    os=\"linux\",\n",
    "    cpu=2,\n",
    "    memory=\"4GB\",\n",
    "    diskSize=\"25GB\",\n",
    "    display=\"1024x768\"\n",
    ")\n",
    "pylume.create_vm(config)"
   ]
  },
  {
   "cell_type": "markdown",
   "metadata": {},
   "source": [
    "### Pull an image from ghcr.io/trycua"
   ]
  },
  {
   "cell_type": "markdown",
   "metadata": {},
   "source": [
    "Cua provides pre-built images for macOS and Linux."
   ]
  },
  {
   "cell_type": "code",
   "execution_count": null,
   "metadata": {},
   "outputs": [],
   "source": [
    "from pylume import PullConfig\n",
    "\n",
    "pull_config = PullConfig(\n",
    "    image=\"macos-sequoia-vanilla\",\n",
    "    tag=\"15.2\",\n",
    "    name=\"macos-sequoia-vanilla24\"\n",
    ")\n",
    "pylume.pull_image(pull_config)"
   ]
  },
  {
   "cell_type": "markdown",
   "metadata": {},
   "source": [
    "### Run\n",
    "\n",
    "Run a VM by providing the `VMRunConfig` object."
   ]
  },
  {
   "cell_type": "code",
   "execution_count": null,
   "metadata": {},
   "outputs": [],
   "source": [
    "from pylume import VMRunConfig, SharedDirectory\n",
    "\n",
    "vm_name = \"macos-sequoia-vanilla\"\n",
    "vm_config = VMRunConfig(\n",
    "    noDisplay=False,\n",
    "    sharedDirectories=[\n",
    "        SharedDirectory(\n",
    "            host_path=\"/Users/<USER>/Downloads\",\n",
    "            read_only=False\n",
    "        )\n",
    "    ]\n",
    ")\n",
    "pylume.run_vm(vm_name, vm_config)\n"
   ]
  },
  {
   "cell_type": "markdown",
   "metadata": {},
   "source": [
    "### List existing VMs\n",
    "\n",
    "VMs are stored in the `~/.lume` directory."
   ]
  },
  {
   "cell_type": "code",
   "execution_count": null,
   "metadata": {},
   "outputs": [],
   "source": [
    "# List existing VMs\n",
    "vms = pylume.list_vms()\n",
    "print(vms)"
   ]
  },
  {
   "cell_type": "markdown",
   "metadata": {},
   "source": [
    "### Get VM status"
   ]
  },
  {
   "cell_type": "code",
   "execution_count": null,
   "metadata": {},
   "outputs": [],
   "source": [
    "status = pylume.get_vm(\"macos-sequoia-vanilla\")\n",
    "print(status)"
   ]
  },
  {
   "cell_type": "markdown",
   "metadata": {},
   "source": [
    "### Update VM Settings"
   ]
  },
  {
   "cell_type": "code",
   "execution_count": null,
   "metadata": {},
   "outputs": [],
   "source": [
    "from pylume import VMUpdateConfig\n",
    "\n",
    "update_config = VMUpdateConfig(\n",
    "    cpu=8,\n",
    "    memory=\"8GB\"\n",
    ")\n",
    "pylume.update_vm(\"macos-sequoia-vanilla\", update_config)"
   ]
  },
  {
   "cell_type": "markdown",
   "metadata": {},
   "source": [
    "### Stop a VM"
   ]
  },
  {
   "cell_type": "code",
   "execution_count": null,
   "metadata": {},
   "outputs": [],
   "source": [
    "pylume.stop_vm(\"macos-sequoia-vanilla\")"
   ]
  },
  {
   "cell_type": "markdown",
   "metadata": {},
   "source": [
    "### Delete a VM"
   ]
  },
  {
   "cell_type": "code",
   "execution_count": null,
   "metadata": {},
   "outputs": [],
   "source": [
    "pylume.delete_vm(\"linux-vm\")"
   ]
  }
 ],
 "metadata": {
  "kernelspec": {
   "display_name": ".venv",
   "language": "python",
   "name": "python3"
  },
  "language_info": {
   "codemirror_mode": {
    "name": "ipython",
    "version": 3
   },
   "file_extension": ".py",
   "mimetype": "text/x-python",
   "name": "python",
   "nbconvert_exporter": "python",
   "pygments_lexer": "ipython3",
   "version": "3.12.8"
  }
 },
 "nbformat": 4,
 "nbformat_minor": 2
}
